{
 "cells": [
  {
   "cell_type": "code",
   "execution_count": 1,
   "metadata": {
    "init_cell": true
   },
   "outputs": [],
   "source": [
    "%logstop\n",
    "%logstart -ortq ~/.logs/PY_OOP.py append\n",
    "%matplotlib inline\n",
    "import matplotlib\n",
    "import seaborn as sns\n",
    "sns.set()\n",
    "matplotlib.rcParams['figure.dpi'] = 144"
   ]
  },
  {
   "cell_type": "code",
   "execution_count": 3,
   "metadata": {},
   "outputs": [],
   "source": [
    "import expectexception"
   ]
  },
  {
   "cell_type": "markdown",
   "metadata": {},
   "source": [
    "# Object Oriented Programming\n",
    "\n",
    "Over the last lectures, I have sometimes referred to **objects** or **Python objects**. I've also mentioned **methods** of objects (e.g. the `get` method of `dict`). What do these terms mean?\n",
    "\n",
    "For now we can think of an object as anything we can store in a variable. We can have objects with different `type`. We might also call an object's `type` its **class**. We'll come back to class later."
   ]
  },
  {
   "cell_type": "code",
   "execution_count": 4,
   "metadata": {},
   "outputs": [
    {
     "name": "stdout",
     "output_type": "stream",
     "text": [
      "42 is an object of <class 'int'>\n",
      "Hello world! is an object of <class 'str'>\n",
      "{'name': 'Dylan', 'age': 26} is an object of <class 'dict'>\n"
     ]
    }
   ],
   "source": [
    "x = 42\n",
    "print('%d is an object of %s' % (x, type(x)))\n",
    "\n",
    "x = 'Hello world!'\n",
    "print('%s is an object of %s' % (x, type(x)))\n",
    "\n",
    "x = {'name': 'Dylan', 'age': 26}\n",
    "print('%s is an object of %s' % (x, type(x)))"
   ]
  },
  {
   "cell_type": "markdown",
   "metadata": {},
   "source": [
    "We already know that integers, strings, and dictionaries behave differently. They have different properties and different capabilities. In the language of programming, we say they have different **attributes** and **methods**.\n",
    "\n",
    "An object's attributes are its internal variables that are used to store information about the object."
   ]
  },
  {
   "cell_type": "code",
   "execution_count": 5,
   "metadata": {},
   "outputs": [
    {
     "name": "stdout",
     "output_type": "stream",
     "text": [
      "5.0\n",
      "3.0\n"
     ]
    }
   ],
   "source": [
    "# a complex number has real and imaginary parts\n",
    "x = complex(5, 3)\n",
    "print(x.real)\n",
    "print(x.imag)"
   ]
  },
  {
   "cell_type": "code",
   "execution_count": 36,
   "metadata": {
    "scrolled": true
   },
   "outputs": [
    {
     "name": "stdout",
     "output_type": "stream",
     "text": [
      "3\n"
     ]
    }
   ],
   "source": [
    "import random\n",
    "\n",
    "print(random.randint(1, 3))"
   ]
  },
  {
   "cell_type": "markdown",
   "metadata": {},
   "source": [
    "An object's methods are its internal functions that implement different capabilities."
   ]
  },
  {
   "cell_type": "code",
   "execution_count": 6,
   "metadata": {},
   "outputs": [
    {
     "name": "stdout",
     "output_type": "stream",
     "text": [
      "dylan\n",
      "DYLAN\n"
     ]
    }
   ],
   "source": [
    "x = 'Dylan'\n",
    "print(x.lower())\n",
    "print(x.upper())"
   ]
  },
  {
   "cell_type": "markdown",
   "metadata": {},
   "source": [
    "We'll interact with an object's methods more often than its attributes. The attributes represent the _state_ of an object. We usually prefer to mutate the state of an object via its methods, since the methods represent the actions one can take safely without breaking the object. Often the attributes of an object will be immutable."
   ]
  },
  {
   "cell_type": "code",
   "execution_count": 8,
   "metadata": {},
   "outputs": [
    {
     "name": "stdout",
     "output_type": "stream",
     "text": [
      "\u001b[0;31m---------------------------------------------------------------------------\u001b[0m\n",
      "\u001b[0;31mAttributeError\u001b[0m                            Traceback (most recent call last)\n",
      "\u001b[0;32m<ipython-input-8-947651b88b0e>\u001b[0m in \u001b[0;36m<module>\u001b[0;34m()\u001b[0m\n",
      "\u001b[1;32m      1\u001b[0m \u001b[0;34m\u001b[0m\u001b[0m\n",
      "\u001b[1;32m      2\u001b[0m \u001b[0mx\u001b[0m \u001b[0;34m=\u001b[0m \u001b[0mcomplex\u001b[0m\u001b[0;34m(\u001b[0m\u001b[0;36m5\u001b[0m\u001b[0;34m,\u001b[0m \u001b[0;36m3\u001b[0m\u001b[0;34m)\u001b[0m\u001b[0;34m\u001b[0m\u001b[0;34m\u001b[0m\u001b[0m\n",
      "\u001b[0;32m----> 3\u001b[0;31m \u001b[0mx\u001b[0m\u001b[0;34m.\u001b[0m\u001b[0mreal\u001b[0m \u001b[0;34m=\u001b[0m \u001b[0;36m6\u001b[0m\u001b[0;34m\u001b[0m\u001b[0;34m\u001b[0m\u001b[0m\n",
      "\u001b[0m\n",
      "\u001b[0;31mAttributeError\u001b[0m: readonly attribute\n"
     ]
    }
   ],
   "source": [
    "%%expect_exception AttributeError\n",
    "\n",
    "x = complex(5, 3)\n",
    "x.real = 6"
   ]
  },
  {
   "cell_type": "markdown",
   "metadata": {},
   "source": [
    "An example of a method that mutates an object is the `append` method of a `list`."
   ]
  },
  {
   "cell_type": "code",
   "execution_count": 10,
   "metadata": {},
   "outputs": [
    {
     "name": "stdout",
     "output_type": "stream",
     "text": [
      "[35, 'example', 348.1, True]\n"
     ]
    }
   ],
   "source": [
    "x = [35, 'example', 348.1]\n",
    "x.append(True)\n",
    "print(x)"
   ]
  },
  {
   "cell_type": "markdown",
   "metadata": {},
   "source": [
    "How do we know what the attributes and methods of an object are? We can use Python's `dir` function. We can use `dir` on an object or on a class."
   ]
  },
  {
   "cell_type": "code",
   "execution_count": 13,
   "metadata": {
    "scrolled": true
   },
   "outputs": [
    {
     "name": "stdout",
     "output_type": "stream",
     "text": [
      "['denominator', 'from_bytes', 'imag', 'numerator', 'real', 'to_bytes']\n",
      "['denominator', 'from_bytes', 'imag', 'numerator', 'real', 'to_bytes']\n",
      "['index', 'insert', 'pop', 'remove', 'reverse', 'sort']\n"
     ]
    },
    {
     "data": {
      "text/plain": [
       "['__add__',\n",
       " '__class__',\n",
       " '__contains__',\n",
       " '__delattr__',\n",
       " '__delitem__',\n",
       " '__dir__',\n",
       " '__doc__',\n",
       " '__eq__',\n",
       " '__format__',\n",
       " '__ge__',\n",
       " '__getattribute__',\n",
       " '__getitem__',\n",
       " '__gt__',\n",
       " '__hash__',\n",
       " '__iadd__',\n",
       " '__imul__',\n",
       " '__init__',\n",
       " '__init_subclass__',\n",
       " '__iter__',\n",
       " '__le__',\n",
       " '__len__',\n",
       " '__lt__',\n",
       " '__mul__',\n",
       " '__ne__',\n",
       " '__new__',\n",
       " '__reduce__',\n",
       " '__reduce_ex__',\n",
       " '__repr__',\n",
       " '__reversed__',\n",
       " '__rmul__',\n",
       " '__setattr__',\n",
       " '__setitem__',\n",
       " '__sizeof__',\n",
       " '__str__',\n",
       " '__subclasshook__',\n",
       " 'append',\n",
       " 'clear',\n",
       " 'copy',\n",
       " 'count',\n",
       " 'extend',\n",
       " 'index',\n",
       " 'insert',\n",
       " 'pop',\n",
       " 'remove',\n",
       " 'reverse',\n",
       " 'sort']"
      ]
     },
     "execution_count": 13,
     "metadata": {},
     "output_type": "execute_result"
    }
   ],
   "source": [
    "# dir on an object\n",
    "x = 42\n",
    "print(dir(x)[-6:]) # I've truncated the results for clarity\n",
    "\n",
    "# dir on a class\n",
    "print(dir(int)[-6:])\n",
    "\n",
    "y = []\n",
    "print(dir(y)[-6:]) # I've truncated the results for clarity\n",
    "\n",
    "dir([])\n"
   ]
  },
  {
   "cell_type": "markdown",
   "metadata": {},
   "source": [
    "We can also look up documentation on the class. For example, [here's Python's documentation on the built-in Python types](https://docs.python.org/2/library/stdtypes.html). We'll use documentation more and more as we incorporate third-party libraries and tools into Python."
   ]
  },
  {
   "cell_type": "markdown",
   "metadata": {},
   "source": [
    "## Classes\n",
    "\n",
    "But this isn't the whole story. The methods and attributes of a `dict` don't tell us anything about key-value pairs or hashing. The full definition of an object is an object's class. We can define our own classes to create objects that carry out a variety of related tasks or represent information in a convenient way. Some examples we'll deal with later in the course are classes for making plots and graphs, classes for creating and analyzing tables of data, and classes for doing statistics and regression.\n",
    "\n",
    "For now, let's implement a class called `Rational` for working with fractional numbers (e.g. 5/15). The first thing we'll need `Rational` to do is to be able to create a `Rational` object. We define how this should work with a special (hidden) method called `__init__`. We'll also define another special method called `__repr__` that tells Python how to print out the object."
   ]
  },
  {
   "cell_type": "code",
   "execution_count": 14,
   "metadata": {},
   "outputs": [],
   "source": [
    "class Rational(object):\n",
    "\n",
    "    def __init__(self, numerator, denominator):\n",
    "        self.numerator = numerator\n",
    "        self.denominator = denominator\n",
    "\n",
    "    def __repr__(self):\n",
    "        return '%d/%d' % (self.numerator, self.denominator)"
   ]
  },
  {
   "cell_type": "code",
   "execution_count": 15,
   "metadata": {},
   "outputs": [
    {
     "name": "stdout",
     "output_type": "stream",
     "text": [
      "4/3\n"
     ]
    }
   ],
   "source": [
    "fraction = Rational(4, 3)\n",
    "print(fraction)"
   ]
  },
  {
   "cell_type": "markdown",
   "metadata": {},
   "source": [
    "You might have noticed that both of the methods took as a first argument the keyword `self`.  The first argument to any method in a class is the instance of the class upon which the method is being called.  Think of a class like a blueprint from which possibly many objects are built. The `self` argument is the mechanism Python uses so that the method can know which instance of the class it is being called upon.  When the method is actually called, we can call it in two ways.  Lets say we create a class `MyClass` with method `.do_it(self)`, if we instantiate an object from this class, we can call the method in two ways:"
   ]
  },
  {
   "cell_type": "code",
   "execution_count": 18,
   "metadata": {},
   "outputs": [
    {
     "name": "stdout",
     "output_type": "stream",
     "text": [
      "2\n",
      "2\n",
      "10\n",
      "10\n"
     ]
    }
   ],
   "source": [
    "class MyClass(object):\n",
    "    def __init__(self, num):\n",
    "        self.num = num\n",
    "        \n",
    "    def do_it(self):\n",
    "        print(self.num)\n",
    "        \n",
    "myclass = MyClass(2)\n",
    "myclass.do_it()\n",
    "MyClass.do_it(myclass)\n",
    "\n",
    "myclass2 = MyClass(10)\n",
    "myclass2.do_it()\n",
    "MyClass.do_it(myclass2)\n"
   ]
  },
  {
   "cell_type": "markdown",
   "metadata": {},
   "source": [
    "In on way `myclass.do_it()` the `self` argument is understood because `myclass` is an instance of `MyClass`.  This is the almost universal way to do call a method.  The other possibility is `MyClass.do_it(myclass)` where we are passing in the object `myclass` as the `self` argument, this syntax is much less common.  \n",
    "\n",
    "Like all Python arguments, there is no need for `self` to be named `self`, we could also call it `this` or `apple` or `wizard`.  However, the use of `self` is a very strong Python convention which is rarely broken.  You should use this convention so that your code is understood by other people.\n",
    "\n",
    "Lets get back to our `Rational` class.  So far, we can make a `Rational` object and `print` it out, but it can't do much else. We might also want a `reduce` method that will divide the numerator and denominator by their greatest common divisor. We will therefore need to write a function that computes the greatest common divisor. We'll add these to our class definition."
   ]
  },
  {
   "cell_type": "code",
   "execution_count": 24,
   "metadata": {},
   "outputs": [],
   "source": [
    "class Rational(object):\n",
    "\n",
    "    def __init__(self, numerator, denominator):\n",
    "        self.numerator = numerator\n",
    "        self.denominator = denominator\n",
    "\n",
    "    def __repr__(self):\n",
    "        return '%d/%d' % (self.numerator, self.denominator)\n",
    "\n",
    "    def _gcd(self):\n",
    "        smaller = min(self.numerator, self.denominator)\n",
    "        small_divisors = {i for i in range(1, smaller + 1) if smaller % i == 0}\n",
    "        larger = max(self.numerator, self.denominator)\n",
    "        common_divisors = {i for i in small_divisors if larger % i == 0}\n",
    "        print(max(common_divisors))\n",
    "        return max(common_divisors)\n",
    "\n",
    "    def reduce(self):\n",
    "        gcd = self._gcd()\n",
    "        self.numerator = self.numerator / gcd\n",
    "        self.denominator = self.denominator / gcd\n",
    "        return self"
   ]
  },
  {
   "cell_type": "code",
   "execution_count": 25,
   "metadata": {},
   "outputs": [
    {
     "name": "stdout",
     "output_type": "stream",
     "text": [
      "16\n",
      "16\n",
      "1/2\n"
     ]
    }
   ],
   "source": [
    "fraction = Rational(16, 32)\n",
    "fraction._gcd()\n",
    "fraction.reduce()\n",
    "print(fraction)"
   ]
  },
  {
   "cell_type": "markdown",
   "metadata": {},
   "source": [
    "We're gradually building up the functionality of our `Rational` class, but it has a huge problem: we can't do math with it!"
   ]
  },
  {
   "cell_type": "code",
   "execution_count": 26,
   "metadata": {},
   "outputs": [
    {
     "name": "stdout",
     "output_type": "stream",
     "text": [
      "\u001b[0;31m---------------------------------------------------------------------------\u001b[0m\n",
      "\u001b[0;31mTypeError\u001b[0m                                 Traceback (most recent call last)\n",
      "\u001b[0;32m<ipython-input-26-cc5282b78078>\u001b[0m in \u001b[0;36m<module>\u001b[0;34m()\u001b[0m\n",
      "\u001b[1;32m      1\u001b[0m \u001b[0;34m\u001b[0m\u001b[0m\n",
      "\u001b[0;32m----> 2\u001b[0;31m \u001b[0mprint\u001b[0m\u001b[0;34m(\u001b[0m\u001b[0;36m4\u001b[0m \u001b[0;34m*\u001b[0m \u001b[0mfraction\u001b[0m\u001b[0;34m)\u001b[0m\u001b[0;34m\u001b[0m\u001b[0;34m\u001b[0m\u001b[0m\n",
      "\u001b[0m\n",
      "\u001b[0;31mTypeError\u001b[0m: unsupported operand type(s) for *: 'int' and 'Rational'\n"
     ]
    }
   ],
   "source": [
    "%%expect_exception TypeError\n",
    "\n",
    "print(4 * fraction)"
   ]
  },
  {
   "cell_type": "markdown",
   "metadata": {},
   "source": [
    "We have to tell Python how to implement mathematical operators (`+`, `-`, `*`, `/`) for our class."
   ]
  },
  {
   "cell_type": "code",
   "execution_count": 28,
   "metadata": {},
   "outputs": [
    {
     "name": "stdout",
     "output_type": "stream",
     "text": [
      "['__abs__', '__add__', '__and__', '__bool__', '__ceil__', '__class__', '__delattr__', '__dir__', '__divmod__', '__doc__', '__eq__', '__float__', '__floor__', '__floordiv__', '__format__', '__ge__', '__getattribute__', '__getnewargs__', '__gt__', '__hash__', '__index__', '__init__', '__init_subclass__', '__int__', '__invert__', '__le__', '__lshift__', '__lt__', '__mod__', '__mul__', '__ne__', '__neg__', '__new__', '__or__', '__pos__', '__pow__', '__radd__', '__rand__', '__rdivmod__', '__reduce__', '__reduce_ex__', '__repr__', '__rfloordiv__', '__rlshift__', '__rmod__', '__rmul__', '__ror__', '__round__', '__rpow__', '__rrshift__', '__rshift__', '__rsub__', '__rtruediv__', '__rxor__', '__setattr__', '__sizeof__', '__str__', '__sub__', '__subclasshook__', '__truediv__', '__trunc__', '__xor__', 'bit_length', 'conjugate', 'denominator', 'from_bytes', 'imag', 'numerator', 'real', 'to_bytes']\n"
     ]
    }
   ],
   "source": [
    "print(dir(int))"
   ]
  },
  {
   "cell_type": "markdown",
   "metadata": {},
   "source": [
    "If we look at `dir(int)` we see it has hidden methods like `__add__`, `__div__`, `__mul__`, `__sub__`, etc. Just like `__repr__` tells Python how to `print` our object, these hidden methods tell Python how to handle mathematical operators.\n",
    "\n",
    "Let's add the methods implementing mathematical operations to our class definition. To perform addition or subtraction, we'll have to find a common denominator with the number we're adding. For simplicity, we'll only implement multiplication. We won't be able to add, subtract, or divide. Even implementing only multiplication will require quite a bit of logic."
   ]
  },
  {
   "cell_type": "code",
   "execution_count": 29,
   "metadata": {},
   "outputs": [],
   "source": [
    "class Rational(object):\n",
    "\n",
    "    def __init__(self, numerator, denominator):\n",
    "        self.numerator = numerator\n",
    "        self.denominator = denominator\n",
    "\n",
    "    def __repr__(self):\n",
    "        return '%d/%d' % (self.numerator, self.denominator)\n",
    "\n",
    "    def __mul__(self, number):\n",
    "        if isinstance(number, int):\n",
    "            return Rational(self.numerator * number, self.denominator)\n",
    "        elif isinstance(number, Rational):\n",
    "            return Rational(self.numerator * number.numerator, self.denominator * number.denominator)\n",
    "        else:\n",
    "            raise TypeError('Expected number to be int or Rational. Got %s' % type(number))\n",
    "        \n",
    "    def _gcd(self):\n",
    "        smaller = min(self.numerator, self.denominator)\n",
    "        small_divisors = {i for i in range(1, smaller + 1) if smaller % i == 0}\n",
    "        larger = max(self.numerator, self.denominator)\n",
    "        common_divisors = {i for i in small_divisors if larger % i == 0}\n",
    "        return max(common_divisors)\n",
    "\n",
    "    def reduce(self):\n",
    "        gcd = self._gcd()\n",
    "        self.numerator = self.numerator / gcd\n",
    "        self.denominator = self.denominator / gcd\n",
    "        return self"
   ]
  },
  {
   "cell_type": "code",
   "execution_count": 30,
   "metadata": {},
   "outputs": [
    {
     "name": "stdout",
     "output_type": "stream",
     "text": [
      "12/6\n",
      "10/27\n"
     ]
    }
   ],
   "source": [
    "print(Rational(4, 6) * 3)\n",
    "print(Rational(5, 9) * Rational(2, 3))"
   ]
  },
  {
   "cell_type": "code",
   "execution_count": 31,
   "metadata": {},
   "outputs": [
    {
     "name": "stdout",
     "output_type": "stream",
     "text": [
      "\u001b[0;31m---------------------------------------------------------------------------\u001b[0m\n",
      "\u001b[0;31mTypeError\u001b[0m                                 Traceback (most recent call last)\n",
      "\u001b[0;32m<ipython-input-31-e585b376123d>\u001b[0m in \u001b[0;36m<module>\u001b[0;34m()\u001b[0m\n",
      "\u001b[1;32m      1\u001b[0m \u001b[0;34m\u001b[0m\u001b[0m\n",
      "\u001b[1;32m      2\u001b[0m \u001b[0;31m# remember, no support for float\u001b[0m\u001b[0;34m\u001b[0m\u001b[0;34m\u001b[0m\u001b[0;34m\u001b[0m\u001b[0m\n",
      "\u001b[0;32m----> 3\u001b[0;31m \u001b[0mprint\u001b[0m\u001b[0;34m(\u001b[0m\u001b[0mRational\u001b[0m\u001b[0;34m(\u001b[0m\u001b[0;36m4\u001b[0m\u001b[0;34m,\u001b[0m \u001b[0;36m6\u001b[0m\u001b[0;34m)\u001b[0m \u001b[0;34m*\u001b[0m \u001b[0;36m2.3\u001b[0m\u001b[0;34m)\u001b[0m\u001b[0;34m\u001b[0m\u001b[0;34m\u001b[0m\u001b[0m\n",
      "\u001b[0m\n",
      "\u001b[0;32m<ipython-input-29-bfab24d3b796>\u001b[0m in \u001b[0;36m__mul__\u001b[0;34m(self, number)\u001b[0m\n",
      "\u001b[1;32m     14\u001b[0m             \u001b[0;32mreturn\u001b[0m \u001b[0mRational\u001b[0m\u001b[0;34m(\u001b[0m\u001b[0mself\u001b[0m\u001b[0;34m.\u001b[0m\u001b[0mnumerator\u001b[0m \u001b[0;34m*\u001b[0m \u001b[0mnumber\u001b[0m\u001b[0;34m.\u001b[0m\u001b[0mnumerator\u001b[0m\u001b[0;34m,\u001b[0m \u001b[0mself\u001b[0m\u001b[0;34m.\u001b[0m\u001b[0mdenominator\u001b[0m \u001b[0;34m*\u001b[0m \u001b[0mnumber\u001b[0m\u001b[0;34m.\u001b[0m\u001b[0mdenominator\u001b[0m\u001b[0;34m)\u001b[0m\u001b[0;34m\u001b[0m\u001b[0;34m\u001b[0m\u001b[0m\n",
      "\u001b[1;32m     15\u001b[0m         \u001b[0;32melse\u001b[0m\u001b[0;34m:\u001b[0m\u001b[0;34m\u001b[0m\u001b[0;34m\u001b[0m\u001b[0m\n",
      "\u001b[0;32m---> 16\u001b[0;31m             \u001b[0;32mraise\u001b[0m \u001b[0mTypeError\u001b[0m\u001b[0;34m(\u001b[0m\u001b[0;34m'Expected number to be int or Rational. Got %s'\u001b[0m \u001b[0;34m%\u001b[0m \u001b[0mtype\u001b[0m\u001b[0;34m(\u001b[0m\u001b[0mnumber\u001b[0m\u001b[0;34m)\u001b[0m\u001b[0;34m)\u001b[0m\u001b[0;34m\u001b[0m\u001b[0;34m\u001b[0m\u001b[0m\n",
      "\u001b[0m\u001b[1;32m     17\u001b[0m \u001b[0;34m\u001b[0m\u001b[0m\n",
      "\u001b[1;32m     18\u001b[0m     \u001b[0;32mdef\u001b[0m \u001b[0m_gcd\u001b[0m\u001b[0;34m(\u001b[0m\u001b[0mself\u001b[0m\u001b[0;34m)\u001b[0m\u001b[0;34m:\u001b[0m\u001b[0;34m\u001b[0m\u001b[0;34m\u001b[0m\u001b[0m\n",
      "\n",
      "\u001b[0;31mTypeError\u001b[0m: Expected number to be int or Rational. Got <class 'float'>\n"
     ]
    }
   ],
   "source": [
    "%%expect_exception TypeError\n",
    "\n",
    "# remember, no support for float\n",
    "print(Rational(4, 6) * 2.3)"
   ]
  },
  {
   "cell_type": "code",
   "execution_count": 32,
   "metadata": {},
   "outputs": [
    {
     "name": "stdout",
     "output_type": "stream",
     "text": [
      "\u001b[0;31m---------------------------------------------------------------------------\u001b[0m\n",
      "\u001b[0;31mTypeError\u001b[0m                                 Traceback (most recent call last)\n",
      "\u001b[0;32m<ipython-input-32-3e2914851db1>\u001b[0m in \u001b[0;36m<module>\u001b[0;34m()\u001b[0m\n",
      "\u001b[1;32m      1\u001b[0m \u001b[0;34m\u001b[0m\u001b[0m\n",
      "\u001b[1;32m      2\u001b[0m \u001b[0;31m# also, no addition, subtraction, etc.\u001b[0m\u001b[0;34m\u001b[0m\u001b[0;34m\u001b[0m\u001b[0;34m\u001b[0m\u001b[0m\n",
      "\u001b[0;32m----> 3\u001b[0;31m \u001b[0mprint\u001b[0m\u001b[0;34m(\u001b[0m\u001b[0mRational\u001b[0m\u001b[0;34m(\u001b[0m\u001b[0;36m4\u001b[0m\u001b[0;34m,\u001b[0m \u001b[0;36m6\u001b[0m\u001b[0;34m)\u001b[0m \u001b[0;34m+\u001b[0m \u001b[0mRational\u001b[0m\u001b[0;34m(\u001b[0m\u001b[0;36m2\u001b[0m\u001b[0;34m,\u001b[0m \u001b[0;36m3\u001b[0m\u001b[0;34m)\u001b[0m\u001b[0;34m)\u001b[0m\u001b[0;34m\u001b[0m\u001b[0;34m\u001b[0m\u001b[0m\n",
      "\u001b[0m\n",
      "\u001b[0;31mTypeError\u001b[0m: unsupported operand type(s) for +: 'Rational' and 'Rational'\n"
     ]
    }
   ],
   "source": [
    "%%expect_exception TypeError\n",
    "\n",
    "# also, no addition, subtraction, etc.\n",
    "print(Rational(4, 6) + Rational(2, 3))"
   ]
  },
  {
   "cell_type": "markdown",
   "metadata": {},
   "source": [
    "Defining classes can be a lot of work. We have to imagine all the ways we might want to use an object, and where we might run into trouble. This is also true of defining functions, but classes will typically handle many tasks while a function might only do one."
   ]
  },
  {
   "cell_type": "markdown",
   "metadata": {},
   "source": [
    "## Private Methods in Python\n",
    "\n",
    "You might have noticed we have used some methods which start with `_` such as `_gcd`.  This has a conventional meaning in Python which is formally implemented in other languages, the notion of a private function.  Classes are used to encapsulate functionality and data while providing an interface to the outside world of other objects.  Think of a program as a company, each worker has their own responsibilities and they know that other people the company perform certain tasks, but they don't necessary know how those people perform those tasks.  \n",
    "\n",
    "In order to make this possible, Classes have both public and private methods.  Public methods are methods which are exposed to other objects or user interaction.  Private methods are used internally to the object, often in a \"helper\" sense.  In some languages this notion of public and private methods is enforced and the programmer will have to specify every method as either public or private.  In Python every method is public, but to distinguish which methods we mean to be private, we add an underscore to the front of the method, hence `_gcd`.  This is a note to someone using the class that this method should only be called inside the object and can be subject to change with new versions, whereas the public methods will hopefully not change their interface.\n",
    "\n",
    "Another Python convention dealing with underscores are the so called `dunder` methods which have double underscores before and after the method names.  There are a bunch of these in Python `__init__, __name__, __add__`, etc and they have special meaning.  Note that they are generally considered private methods as well except in special circumstances.  In the case of methods like `__add__`, they are what allow the programmer to specify the `+` operation.  Since these method have special meaning to Python they should only be used with care.  Additionally, even though overloading things like the `+` operator might make sense to you as you program it, it can very confusing to someone reading your code as Python's dynamic type system usually does not allow determination of types until runtime, usually defining an `.add` method is much more clear.\n",
    "\n",
    "## When do we want Classes?\n",
    "\n",
    "When we want to perform a set of related tasks, especially in repetition, we will usually want to define a new class. We will see that in most of the third-party libraries we will use, the major tools they introduce to Python are new classes. For example, later in the course we'll learn about the Pandas library, whose main feature is the `DataFrame` class."
   ]
  },
  {
   "cell_type": "code",
   "execution_count": 39,
   "metadata": {},
   "outputs": [
    {
     "name": "stdout",
     "output_type": "stream",
     "text": [
      "<class 'pandas.core.frame.DataFrame'>\n"
     ]
    },
    {
     "data": {
      "text/html": [
       "<div>\n",
       "<style scoped>\n",
       "    .dataframe tbody tr th:only-of-type {\n",
       "        vertical-align: middle;\n",
       "    }\n",
       "\n",
       "    .dataframe tbody tr th {\n",
       "        vertical-align: top;\n",
       "    }\n",
       "\n",
       "    .dataframe thead th {\n",
       "        text-align: right;\n",
       "    }\n",
       "</style>\n",
       "<table border=\"1\" class=\"dataframe\">\n",
       "  <thead>\n",
       "    <tr style=\"text-align: right;\">\n",
       "      <th></th>\n",
       "      <th>a</th>\n",
       "      <th>b</th>\n",
       "    </tr>\n",
       "  </thead>\n",
       "  <tbody>\n",
       "    <tr>\n",
       "      <th>0</th>\n",
       "      <td>1</td>\n",
       "      <td>True</td>\n",
       "    </tr>\n",
       "    <tr>\n",
       "      <th>1</th>\n",
       "      <td>2</td>\n",
       "      <td>False</td>\n",
       "    </tr>\n",
       "    <tr>\n",
       "      <th>2</th>\n",
       "      <td>5</td>\n",
       "      <td>True</td>\n",
       "    </tr>\n",
       "  </tbody>\n",
       "</table>\n",
       "</div>"
      ],
      "text/plain": [
       "   a      b\n",
       "0  1   True\n",
       "1  2  False\n",
       "2  5   True"
      ]
     },
     "execution_count": 39,
     "metadata": {},
     "output_type": "execute_result"
    }
   ],
   "source": [
    "import pandas as pd\n",
    "\n",
    "df = pd.DataFrame({'a': [1, 2, 5], 'b': [True, False, True]})\n",
    "\n",
    "print(type(df))\n",
    "df.head()"
   ]
  },
  {
   "cell_type": "markdown",
   "metadata": {},
   "source": [
    "Here's the (abridged) beginning of the DataFrame class definition:\n",
    "\n",
    "```python\n",
    "class DataFrame(NDFrame):\n",
    "\n",
    "    def __init__(self, data=None, index=None, columns=None, dtype=None,\n",
    "                 copy=False):\n",
    "        if data is None:\n",
    "            data = {}\n",
    "        if dtype is not None:\n",
    "            dtype = self._validate_dtype(dtype)\n",
    "\n",
    "        if isinstance(data, DataFrame):\n",
    "            data = data._data\n",
    "\n",
    "        if isinstance(data, BlockManager):\n",
    "            mgr = self._init_mgr(data, axes=dict(index=index, columns=columns),\n",
    "                                 dtype=dtype, copy=copy)\n",
    "        elif isinstance(data, dict):\n",
    "            mgr = self._init_dict(data, index, columns, dtype=dtype)\n",
    "        elif isinstance(data, ma.MaskedArray):\n",
    "            import numpy.ma.mrecords as mrecords\n",
    "            # masked recarray\n",
    "            if isinstance(data, mrecords.MaskedRecords):\n",
    "                mgr = _masked_rec_array_to_mgr(data, index, columns, dtype,\n",
    "                                               copy)\n",
    "\n",
    "            # a masked array\n",
    "            else:\n",
    "                mask = ma.getmaskarray(data)\n",
    "                if mask.any():\n",
    "                    data, fill_value = maybe_upcast(data, copy=True)\n",
    "                    data[mask] = fill_value\n",
    "                else:\n",
    "                    data = data.copy()\n",
    "                mgr = self._init_ndarray(data, index, columns, dtype=dtype,\n",
    "                                         copy=copy)\n",
    "\n",
    "        elif isinstance(data, (np.ndarray, Series, Index)):\n",
    "            if data.dtype.names:\n",
    "                data_columns = list(data.dtype.names)\n",
    "                data = dict((k, data[k]) for k in data_columns)\n",
    "                if columns is None:\n",
    "                    columns = data_columns\n",
    "                mgr = self._init_dict(data, index, columns, dtype=dtype)\n",
    "            elif getattr(data, 'name', None) is not None:\n",
    "                mgr = self._init_dict({data.name: data}, index, columns,\n",
    "                                      dtype=dtype)\n",
    "            else:\n",
    "                mgr = self._init_ndarray(data, index, columns, dtype=dtype,\n",
    "                                         copy=copy)\n",
    "        elif isinstance(data, (list, types.GeneratorType)):\n",
    "            if isinstance(data, types.GeneratorType):\n",
    "                data = list(data)\n",
    "            if len(data) > 0:\n",
    "                if is_list_like(data[0]) and getattr(data[0], 'ndim', 1) == 1:\n",
    "                    if is_named_tuple(data[0]) and columns is None:\n",
    "                        columns = data[0]._fields\n",
    "                    arrays, columns = _to_arrays(data, columns, dtype=dtype)\n",
    "                    columns = _ensure_index(columns)\n",
    "\n",
    "                    # set the index\n",
    "                    if index is None:\n",
    "                        if isinstance(data[0], Series):\n",
    "                            index = _get_names_from_index(data)\n",
    "                        elif isinstance(data[0], Categorical):\n",
    "                            index = _default_index(len(data[0]))\n",
    "                        else:\n",
    "                            index = _default_index(len(data))\n",
    "\n",
    "                    mgr = _arrays_to_mgr(arrays, columns, index, columns,\n",
    "                                         dtype=dtype)\n",
    "                else:\n",
    "                    mgr = self._init_ndarray(data, index, columns, dtype=dtype,\n",
    "                                             copy=copy)\n",
    "            else:\n",
    "                mgr = self._init_dict({}, index, columns, dtype=dtype)\n",
    "        elif isinstance(data, collections.Iterator):\n",
    "            raise TypeError(\"data argument can't be an iterator\")\n",
    "        else:\n",
    "            try:\n",
    "                arr = np.array(data, dtype=dtype, copy=copy)\n",
    "            except (ValueError, TypeError) as e:\n",
    "                exc = TypeError('DataFrame constructor called with '\n",
    "                                'incompatible data and dtype: %s' % e)\n",
    "                raise_with_traceback(exc)\n",
    "\n",
    "            if arr.ndim == 0 and index is not None and columns is not None:\n",
    "                values = cast_scalar_to_array((len(index), len(columns)),\n",
    "                                              data, dtype=dtype)\n",
    "                mgr = self._init_ndarray(values, index, columns,\n",
    "                                         dtype=values.dtype, copy=False)\n",
    "            else:\n",
    "                raise ValueError('DataFrame constructor not properly called!')\n",
    "\n",
    "        NDFrame.__init__(self, mgr, fastpath=True)\n",
    "```"
   ]
  },
  {
   "cell_type": "markdown",
   "metadata": {},
   "source": [
    "That's a lot of code just for `__init__`!\n",
    "\n",
    "Often we'll use the relationship between a new class and existing classes to _inherit_ functionality, saving us from writing some code.\n",
    "\n",
    "## Inheritance\n",
    "\n",
    "Often the classes we define in Python will build off of existing ideas in other classes. For example, our `Rational` class is a number, so it should behave like other numbers. We could write an implementation of `Rational` that uses `float` arithmetic and simply converts between floating point and rational representations during input and output. This would save us complexity in implementing the arithmetic, but might complicate object creation and representation. Even if you never write a class, it's useful to understand the idea of inheritance and the relationship between classes.\n",
    "\n",
    "Lets write a general class called `Rectangle`, it will have two attributes, a length and a width, as well as a few methods."
   ]
  },
  {
   "cell_type": "code",
   "execution_count": 40,
   "metadata": {},
   "outputs": [],
   "source": [
    "class Rectangle(object):\n",
    "    def __init__(self, height, length):\n",
    "        self.height = height\n",
    "        self.length = length\n",
    "    \n",
    "    def area(self):\n",
    "        return self.height * self.length\n",
    "    \n",
    "    def perimeter(self):\n",
    "        return 2 * (self.height + self.length)"
   ]
  },
  {
   "cell_type": "markdown",
   "metadata": {},
   "source": [
    "Now a square is also a rectangle, but its somewhat more restricted in that it has the same height as length, so we can subclass `Rectangle` and enforce this in code."
   ]
  },
  {
   "cell_type": "code",
   "execution_count": 41,
   "metadata": {},
   "outputs": [],
   "source": [
    "class Square(Rectangle):\n",
    "    def __init__(self, length):\n",
    "        super(Square, self).__init__(length, length)"
   ]
  },
  {
   "cell_type": "code",
   "execution_count": 42,
   "metadata": {},
   "outputs": [
    {
     "data": {
      "text/plain": [
       "(25, 20)"
      ]
     },
     "execution_count": 42,
     "metadata": {},
     "output_type": "execute_result"
    }
   ],
   "source": [
    "s = Square(5)\n",
    "s.area(), s.perimeter()"
   ]
  },
  {
   "cell_type": "markdown",
   "metadata": {},
   "source": [
    "Sometimes (although not often) we want to actually check the type of a python object (what class it is from).  There are two ways of doing this, lets first look at a few examples to get a sense of the difference."
   ]
  },
  {
   "cell_type": "code",
   "execution_count": 43,
   "metadata": {},
   "outputs": [
    {
     "data": {
      "text/plain": [
       "True"
      ]
     },
     "execution_count": 43,
     "metadata": {},
     "output_type": "execute_result"
    }
   ],
   "source": [
    "type(s) == Square"
   ]
  },
  {
   "cell_type": "code",
   "execution_count": 44,
   "metadata": {},
   "outputs": [
    {
     "data": {
      "text/plain": [
       "False"
      ]
     },
     "execution_count": 44,
     "metadata": {},
     "output_type": "execute_result"
    }
   ],
   "source": [
    "type(s) == Rectangle"
   ]
  },
  {
   "cell_type": "code",
   "execution_count": 45,
   "metadata": {},
   "outputs": [
    {
     "data": {
      "text/plain": [
       "True"
      ]
     },
     "execution_count": 45,
     "metadata": {},
     "output_type": "execute_result"
    }
   ],
   "source": [
    "isinstance(s, Rectangle)"
   ]
  },
  {
   "cell_type": "markdown",
   "metadata": {},
   "source": [
    "As you might have noticed checking type quality only checks the exact class to which an object belongs, whereas `isinstance(c, Class)` checks if `c` is either a member of class `Class` or a member of a subclass of `Class`.  Almost always `isinstance` is the proper way to check this, because if a class implements some sort of functionality, its subclasses usually implement the same functionality (they just might have some extra bonus functionality!)."
   ]
  },
  {
   "cell_type": "markdown",
   "metadata": {},
   "source": [
    "## Object Oriented Programming\n",
    "\n",
    "Now that we understand objects and classes, let's return to the idea of _object oriented programming_. Object oriented programming (`OOP`) is a perspective that programs are essentially about the creation of objects and the interaction between them. In `OOP`, almost every piece of code either describes an object, an object's attributes, or an object's methods. Keeping this perspective in mind can help us understand what's happening in a program."
   ]
  },
  {
   "cell_type": "markdown",
   "metadata": {},
   "source": [
    "## Questions:\n",
    "- What are some built-in Python objects that might inherit from the same parent class?"
   ]
  },
  {
   "cell_type": "markdown",
   "metadata": {},
   "source": [
    "*Copyright &copy; 2019 The Data Incubator.  All rights reserved.*"
   ]
  }
 ],
 "metadata": {
  "kernelspec": {
   "display_name": "Python 3",
   "language": "python",
   "name": "python3"
  },
  "language_info": {
   "codemirror_mode": {
    "name": "ipython",
    "version": 3
   },
   "file_extension": ".py",
   "mimetype": "text/x-python",
   "name": "python",
   "nbconvert_exporter": "python",
   "pygments_lexer": "ipython3",
   "version": "3.7.3"
  },
  "nbclean": true
 },
 "nbformat": 4,
 "nbformat_minor": 1
}
