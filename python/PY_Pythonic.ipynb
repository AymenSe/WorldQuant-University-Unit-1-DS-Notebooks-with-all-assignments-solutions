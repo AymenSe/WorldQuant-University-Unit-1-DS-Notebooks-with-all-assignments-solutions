{
 "cells": [
  {
   "cell_type": "code",
   "execution_count": 1,
   "metadata": {
    "init_cell": true
   },
   "outputs": [],
   "source": [
    "%logstop\n",
    "%logstart -ortq ~/.logs/PY_Pythonic.py append\n",
    "%matplotlib inline\n",
    "import matplotlib\n",
    "import seaborn as sns\n",
    "sns.set()\n",
    "matplotlib.rcParams['figure.dpi'] = 144"
   ]
  },
  {
   "cell_type": "code",
   "execution_count": 4,
   "metadata": {},
   "outputs": [],
   "source": [
    "import expectexception"
   ]
  },
  {
   "cell_type": "markdown",
   "metadata": {},
   "source": [
    "# Pythonisms"
   ]
  },
  {
   "cell_type": "markdown",
   "metadata": {},
   "source": [
    "Much of what we covered in the previous notebook can be fairly generally applicable.  Even the Python syntax is quite similar to other languages in the C family.  But there are a few things that every language chooses how to do beyond just syntax (although many new languages do take some inspiration from the Python way of doing things).  The things we will go over here\n",
    "\n",
    "* What is Pythonic?\n",
    "* Float Division\n",
    "* Python `import` system\n",
    "* Exceptions\n",
    "* How to debug Python\n",
    "\n",
    "\n",
    "Lets start by what we mean by the Python way of doing things."
   ]
  },
  {
   "cell_type": "markdown",
   "metadata": {},
   "source": [
    "## `Pythonic`\n",
    "\n",
    "When learning Python, you will probably browse blogs and other web resources that claim certain things are `Pythonic`.  Python has an opinionated way of doing things, mostly captured in the Zen of Python"
   ]
  },
  {
   "cell_type": "code",
   "execution_count": 8,
   "metadata": {},
   "outputs": [],
   "source": [
    "import this"
   ]
  },
  {
   "cell_type": "markdown",
   "metadata": {},
   "source": [
    "`Pythonic` practices are those which the general Python community has agreed are preferable, sometimes this is purely a stylistic consideration and other times it may be related to the way the Python runs.\n",
    "\n",
    "Making your code `Pythonic` can also be useful when other Python programmers need to interact with it as they will be familiar with the idioms and paradigms you use.  "
   ]
  },
  {
   "cell_type": "markdown",
   "metadata": {},
   "source": [
    "## Imports\n",
    "\n",
    "In the cells above you might have noticed we used the `import <package>` syntax.  This construct allows us to include code from other python files or more generally modules (collections of files) and packages (collection of modules) into the current code we are working with.  For the purposes of this course, we have installed all the packages you will need on your machine, but for working with packages, some recommended tools are \n",
    "\n",
    "- conda\n",
    "- pip\n",
    "\n",
    "With installed packages (usually installed with one of those two \"package managers\"), we can import the package with the `import` command.  We can also import only parts of the package.  For example, one package we will use in the course is called `pandas`.  We can import `pandas`"
   ]
  },
  {
   "cell_type": "code",
   "execution_count": 9,
   "metadata": {},
   "outputs": [
    {
     "data": {
      "text/plain": [
       "<module 'pandas' from '/opt/conda/lib/python3.7/site-packages/pandas/__init__.py'>"
      ]
     },
     "execution_count": 9,
     "metadata": {},
     "output_type": "execute_result"
    }
   ],
   "source": [
    "import pandas\n",
    "pandas"
   ]
  },
  {
   "cell_type": "markdown",
   "metadata": {},
   "source": [
    "We can also import pandas, but call it something else (saves a bit of typing and is conventional for some of the main packages in the Python scientific stack)."
   ]
  },
  {
   "cell_type": "code",
   "execution_count": 10,
   "metadata": {},
   "outputs": [
    {
     "data": {
      "text/plain": [
       "<module 'pandas' from '/opt/conda/lib/python3.7/site-packages/pandas/__init__.py'>"
      ]
     },
     "execution_count": 10,
     "metadata": {},
     "output_type": "execute_result"
    }
   ],
   "source": [
    "import pandas as pd\n",
    "pd"
   ]
  },
  {
   "cell_type": "markdown",
   "metadata": {},
   "source": [
    "Now when we want to use a function or class from pandas, we need to call it with the syntax `pd.function` or `pd.class`.  For example, the `DataFrame` object"
   ]
  },
  {
   "cell_type": "code",
   "execution_count": 11,
   "metadata": {},
   "outputs": [
    {
     "data": {
      "text/plain": [
       "pandas.core.frame.DataFrame"
      ]
     },
     "execution_count": 11,
     "metadata": {},
     "output_type": "execute_result"
    }
   ],
   "source": [
    "pd.DataFrame"
   ]
  },
  {
   "cell_type": "markdown",
   "metadata": {},
   "source": [
    "Note that this DataFrame does not exist in the main namespace."
   ]
  },
  {
   "cell_type": "code",
   "execution_count": 12,
   "metadata": {},
   "outputs": [
    {
     "name": "stdout",
     "output_type": "stream",
     "text": [
      "\u001b[0;31m---------------------------------------------------------------------------\u001b[0m\n",
      "\u001b[0;31mNameError\u001b[0m                                 Traceback (most recent call last)\n",
      "\u001b[0;32m<ipython-input-12-06a8df4645de>\u001b[0m in \u001b[0;36m<module>\u001b[0;34m()\u001b[0m\n",
      "\u001b[1;32m      1\u001b[0m \u001b[0;34m\u001b[0m\u001b[0m\n",
      "\u001b[0;32m----> 2\u001b[0;31m \u001b[0mDataFrame\u001b[0m\u001b[0;34m\u001b[0m\u001b[0;34m\u001b[0m\u001b[0m\n",
      "\u001b[0m\n",
      "\u001b[0;31mNameError\u001b[0m: name 'DataFrame' is not defined\n"
     ]
    }
   ],
   "source": [
    "%%expect_exception NameError\n",
    "\n",
    "DataFrame"
   ]
  },
  {
   "cell_type": "markdown",
   "metadata": {},
   "source": [
    "We can also just import parts of a package, we can even import them and give them another name!"
   ]
  },
  {
   "cell_type": "code",
   "execution_count": 13,
   "metadata": {},
   "outputs": [
    {
     "data": {
      "text/plain": [
       "pandas.core.frame.DataFrame"
      ]
     },
     "execution_count": 13,
     "metadata": {},
     "output_type": "execute_result"
    }
   ],
   "source": [
    "from pandas import DataFrame as dframe\n",
    "dframe"
   ]
  },
  {
   "cell_type": "markdown",
   "metadata": {},
   "source": [
    "Another thing we can do is to import everything into the main namespace using the syntax\n",
    "\n",
    "```python\n",
    "\n",
    "from pandas import *\n",
    "```\n",
    "\n",
    "This is highly discouraged because it can cause problems when multiple packages have a function or class with the same name (not uncommon, think about a function like `.info`).\n",
    "\n",
    "We have covered the basic mechanics of the import system, but what does it allow us to do?  Having a sane packaging system allows Python users to package bundles of functionality into modules and packages which can be imported into other bits of codes.  If well written, these packages operate mostly like black boxes, where the user understands _what_ the package is doing, but not necessarily _how_ it is performing its functionality.  \n",
    "\n",
    "While it may seem like this is giving up too much control, most of us don't understand exactly how our computer processor works, or even the keyboard, yet we are perfectly comfortable using them to serve their purpose. Packages are similar and when written well can be invaluable tools that allows us incorporate well written tested code that does powerful things into our applications with very little difficulty."
   ]
  },
  {
   "cell_type": "markdown",
   "metadata": {},
   "source": [
    "## Standard Library\n",
    "\n",
    "One useful thing we can do with `import` statements is import packages in the Python standard library.  These are packages which are packaged with the interpreter and available on (almost) any Python installation.  These packages server a wide variety of purposes, here we have listed just a few along with their description.  For the rest, checkout the [documentation](https://docs.python.org/2/library/).\n",
    "\n",
    "- `collections` - containers\n",
    "- `re` - regular expressions\n",
    "- `datetime` - date and time handling\n",
    "- `heapq` - the heap queue algorithm\n",
    "- `itertools` - functions for help with iteration\n",
    "- `functools` - function to assist with functional programming\n",
    "- `os` - operating system interfaces\n",
    "- `sys` - system functions\n",
    "- `pickle` - serialize Python objects\n",
    "- `gzip` - work with Gzipped files\n",
    "- `time` - time access\n",
    "- `argparse` - command line argument handling\n",
    "- `threading` - threading interface\n",
    "- `multiprocessing` - process based \"threading\"\n",
    "- `subprocess` - subprocess management\n",
    "- `unittest` - testing tools\n",
    "- `pdb` - debugger\n",
    "\n",
    "\n",
    "\n",
    "\n",
    "These packages are optimized, reliable, and available anywhere there is a Python installation, so use them when you can!"
   ]
  },
  {
   "cell_type": "markdown",
   "metadata": {},
   "source": [
    "## Exceptions\n",
    "\n",
    "An exception is something that deviates from the norm.  In Python its no different, exceptions are when your program deviates from expected behavior.  The Python interpreter will attempt to execute any code that it's given and when it can't, it will raise an `Exception`.  In our notebooks you will note the `%%expect_exception` magic.  This is just a sign that we know there will be an exception in that cell.  For example, lets try to add a number to a string."
   ]
  },
  {
   "cell_type": "code",
   "execution_count": 2,
   "metadata": {},
   "outputs": [
    {
     "name": "stderr",
     "output_type": "stream",
     "text": [
      "UsageError: Cell magic `%%expect_exception` not found.\n"
     ]
    }
   ],
   "source": [
    "%%expect_exception TypeError\n",
    "\n",
    "2 + '3'"
   ]
  },
  {
   "cell_type": "markdown",
   "metadata": {},
   "source": [
    "We can see that this raises a `TypeError` because Python doesn't know how to add a string and an integer together (Python will not coerce one of the values into a different type; remember the Zen of Python: 'In the face of ambiguity, refuse the temptation to guess').  Exceptions are often very readable and helpful to debug code, however, we can also write code to handle exceptions when they occur.  Lets write a function which adds to things together (basically just another version of the add function) except it will catch the `TypeError` and do some conversion."
   ]
  },
  {
   "cell_type": "code",
   "execution_count": 3,
   "metadata": {},
   "outputs": [],
   "source": [
    "def add(x, y):\n",
    "    try:\n",
    "        return x + y\n",
    "    except TypeError:\n",
    "        return float(x) + float(y)"
   ]
  },
  {
   "cell_type": "markdown",
   "metadata": {},
   "source": [
    "Now lets run something similar to the previous example"
   ]
  },
  {
   "cell_type": "code",
   "execution_count": 4,
   "metadata": {},
   "outputs": [
    {
     "data": {
      "text/plain": [
       "5.0"
      ]
     },
     "execution_count": 4,
     "metadata": {},
     "output_type": "execute_result"
    }
   ],
   "source": [
    "add(2, '3')"
   ]
  },
  {
   "cell_type": "markdown",
   "metadata": {},
   "source": [
    "As seen above, the way to handle Exceptions is with the `try` and `except` keywords.  The `try` block specifies a bit of code to try to run and the `except` block handles all exceptions that are specifically enumerated.  One can also catch all exceptions by doing\n",
    "\n",
    "```python\n",
    "\n",
    "try:\n",
    "    func()\n",
    "except:\n",
    "    handle_exception()\n",
    "    \n",
    "```\n",
    "\n",
    "But this is not generally a good idea since Python uses Exceptions for all sorts of things (sometimes even exiting programs) and you don't want to catch Exceptions which Python is using for a different purpose.  Think of `Exception` handling as handling the small probability things that will happen in your code, not as a tool to anticipate anything.\n",
    "\n",
    "We have seen exceptions, but what are the alternative?  One option, used by other languages is to test ahead of time that conditions necessary to proceed are met.  We can rewrite the add function in a different way."
   ]
  },
  {
   "cell_type": "code",
   "execution_count": 5,
   "metadata": {},
   "outputs": [
    {
     "data": {
      "text/plain": [
       "5.0"
      ]
     },
     "execution_count": 5,
     "metadata": {},
     "output_type": "execute_result"
    }
   ],
   "source": [
    "def add_2(x,y):\n",
    "    if not isinstance(x, (float, int)):\n",
    "        x = float(x)\n",
    "    if not isinstance(y, (float, int)):\n",
    "        y = float(y)\n",
    "    return x + y\n",
    "add_2(2, '3')"
   ]
  },
  {
   "cell_type": "markdown",
   "metadata": {},
   "source": [
    "This also works, but its not Pythonic.  The Pythonic way of thinking about this is roughly analogous to \"its easier to ask for forgiveness than permission\".  Throwing exceptions actually has other positive benefits, such as the ability to handle errors at higher level code instead of in low level functions.  \n",
    "\n",
    "What we mean by this is if we have a series of functions `f_a,f_b,f_c` and `f_a` calls `f_b` which calls `f_c`, we can choose to handle an exception in `f_c` in any of these functions!"
   ]
  },
  {
   "cell_type": "markdown",
   "metadata": {},
   "source": [
    "## Python Debugging\n",
    "\n",
    "We have seen how to handle errors with `Exceptions`, but how do we figure out whats wrong when we have errors that we haven't handled?\n",
    "\n",
    "Lets look again at our previous example."
   ]
  },
  {
   "cell_type": "code",
   "execution_count": 6,
   "metadata": {},
   "outputs": [
    {
     "name": "stderr",
     "output_type": "stream",
     "text": [
      "UsageError: Cell magic `%%expect_exception` not found.\n"
     ]
    }
   ],
   "source": [
    "%%expect_exception TypeError\n",
    "\n",
    "2 + '3'"
   ]
  },
  {
   "cell_type": "markdown",
   "metadata": {},
   "source": [
    "If we look at the returned text, referred to as a `Traceback`, we can see much useful information.  Tracebacks should be read starting from the bottom and working up.  In this case the Traceback tells us exactly what happened, we tried to add an `int` and a `str` and there is no way to do this.  It even points to the exact line of code where this error occurs.  \n",
    "\n",
    "Lets take a look at a more complicated Traceback.  We will create a pandas `DataFrame` with illegal arguments."
   ]
  },
  {
   "cell_type": "code",
   "execution_count": 7,
   "metadata": {},
   "outputs": [
    {
     "name": "stderr",
     "output_type": "stream",
     "text": [
      "UsageError: Cell magic `%%expect_exception` not found.\n"
     ]
    }
   ],
   "source": [
    "%%expect_exception ValueError\n",
    "\n",
    "pd.DataFrame(['one','two','three'],['test'])"
   ]
  },
  {
   "cell_type": "markdown",
   "metadata": {},
   "source": [
    "If we look to the bottom, we can see that this is caused by an improper shape of the arrays we have passed into the `DataFrame` function.  We can trace our way back up through the code to see all the functions which were called in order to get to this error.  In this case, there were four called, `DataFrame, _init_ndarray, create_block_manager_from_blocks, construction_error`.  \n",
    "\n",
    "Learning how to read Tracebacks and especially to figure out why simple bits of code are failing is an important part to becoming a good Python programmer.\n",
    "\n",
    "### Exercise\n",
    "\n",
    "Run the following bits of code in new cells and determine the error, fix the errors in a sensible way.\n",
    "\n",
    "\n",
    "```python\n",
    "# Example 1\n",
    "float([1])\n",
    "\n",
    "# Example 2\n",
    "a = []\n",
    "a[1]\n",
    "\n",
    "# Example 3\n",
    "pd.DataFrame(['one','two','three'],['test'])\n",
    "```"
   ]
  },
  {
   "cell_type": "code",
   "execution_count": 8,
   "metadata": {},
   "outputs": [
    {
     "ename": "TypeError",
     "evalue": "float() argument must be a string or a number, not 'list'",
     "output_type": "error",
     "traceback": [
      "\u001b[0;31m---------------------------------------------------------------------------\u001b[0m",
      "\u001b[0;31mTypeError\u001b[0m                                 Traceback (most recent call last)",
      "\u001b[0;32m<ipython-input-8-b57224a33cd7>\u001b[0m in \u001b[0;36m<module>\u001b[0;34m()\u001b[0m\n\u001b[1;32m      1\u001b[0m \u001b[0;31m# Example 1\u001b[0m\u001b[0;34m\u001b[0m\u001b[0;34m\u001b[0m\u001b[0;34m\u001b[0m\u001b[0m\n\u001b[0;32m----> 2\u001b[0;31m \u001b[0mfloat\u001b[0m\u001b[0;34m(\u001b[0m\u001b[0;34m[\u001b[0m\u001b[0;36m1\u001b[0m\u001b[0;34m]\u001b[0m\u001b[0;34m)\u001b[0m\u001b[0;34m\u001b[0m\u001b[0;34m\u001b[0m\u001b[0m\n\u001b[0m\u001b[1;32m      3\u001b[0m \u001b[0;34m\u001b[0m\u001b[0m\n\u001b[1;32m      4\u001b[0m \u001b[0;31m# Example 2\u001b[0m\u001b[0;34m\u001b[0m\u001b[0;34m\u001b[0m\u001b[0;34m\u001b[0m\u001b[0m\n\u001b[1;32m      5\u001b[0m \u001b[0ma\u001b[0m \u001b[0;34m=\u001b[0m \u001b[0;34m[\u001b[0m\u001b[0;34m]\u001b[0m\u001b[0;34m\u001b[0m\u001b[0;34m\u001b[0m\u001b[0m\n",
      "\u001b[0;31mTypeError\u001b[0m: float() argument must be a string or a number, not 'list'"
     ]
    }
   ],
   "source": [
    "# Example 1\n",
    "float([1])\n",
    "\n",
    "# Example 2\n",
    "a = []\n",
    "a[1]\n",
    "\n",
    "# Example 3\n",
    "pd.DataFrame(['one','two','three'],['test'])"
   ]
  },
  {
   "cell_type": "markdown",
   "metadata": {},
   "source": [
    "*Copyright &copy; 2019 The Data Incubator.  All rights reserved.*"
   ]
  }
 ],
 "metadata": {
  "kernelspec": {
   "display_name": "Python 3",
   "language": "python",
   "name": "python3"
  },
  "language_info": {
   "codemirror_mode": {
    "name": "ipython",
    "version": 3
   },
   "file_extension": ".py",
   "mimetype": "text/x-python",
   "name": "python",
   "nbconvert_exporter": "python",
   "pygments_lexer": "ipython3",
   "version": "3.7.3"
  },
  "nbclean": true
 },
 "nbformat": 4,
 "nbformat_minor": 1
}
